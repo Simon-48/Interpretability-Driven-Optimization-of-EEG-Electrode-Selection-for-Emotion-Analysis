{
  "nbformat": 4,
  "nbformat_minor": 0,
  "metadata": {
    "colab": {
      "provenance": []
    },
    "kernelspec": {
      "name": "python3",
      "display_name": "Python 3"
    },
    "language_info": {
      "name": "python"
    }
  },
  "cells": [
    {
      "cell_type": "markdown",
      "metadata": {
        "id": "VQFc1dGpCzLC"
      },
      "source": [
        "**Pyeeg has been installed**"
      ]
    },
    {
      "cell_type": "code",
      "execution_count": null,
      "metadata": {
        "colab": {
          "base_uri": "https://localhost:8080/"
        },
        "id": "dAEVJFOgBnY_",
        "outputId": "a914d328-47b2-4f06-d196-1851c123a80a"
      },
      "outputs": [
        {
          "output_type": "stream",
          "name": "stdout",
          "text": [
            "Collecting git+https://github.com/forrestbao/pyeeg.git\n",
            "  Cloning https://github.com/forrestbao/pyeeg.git to /tmp/pip-req-build-zq1onecj\n",
            "  Running command git clone --filter=blob:none --quiet https://github.com/forrestbao/pyeeg.git /tmp/pip-req-build-zq1onecj\n",
            "  Resolved https://github.com/forrestbao/pyeeg.git to commit a6c18bb093e4748f9d9c208535a6ae024a0802b8\n",
            "  Preparing metadata (setup.py) ... \u001b[?25l\u001b[?25hdone\n",
            "Requirement already satisfied: numpy>=1.9.2 in /usr/local/lib/python3.10/dist-packages (from pyeeg==0.4.4) (1.26.4)\n"
          ]
        }
      ],
      "source": [
        "pip install git+https://github.com/forrestbao/pyeeg.git"
      ]
    },
    {
      "cell_type": "code",
      "execution_count": null,
      "metadata": {
        "colab": {
          "base_uri": "https://localhost:8080/"
        },
        "id": "dqactiPMDO0t",
        "outputId": "ffd0ad88-8349-4a5b-a217-9d5e31f97c74"
      },
      "outputs": [
        {
          "output_type": "stream",
          "name": "stdout",
          "text": [
            "Requirement already satisfied: pyeeg in /usr/local/lib/python3.10/dist-packages (0.4.4)\n",
            "Requirement already satisfied: numpy>=1.9.2 in /usr/local/lib/python3.10/dist-packages (from pyeeg) (1.26.4)\n"
          ]
        }
      ],
      "source": [
        "!pip install pyeeg"
      ]
    },
    {
      "cell_type": "markdown",
      "metadata": {
        "id": "1odiyKSWDlxE"
      },
      "source": [
        "**Imported the necessery library packages**"
      ]
    },
    {
      "cell_type": "code",
      "execution_count": null,
      "metadata": {
        "id": "rGcG7Bmrva3L"
      },
      "outputs": [],
      "source": [
        "import numpy as np # linear algebra\n",
        "import pandas as pd # data processing\n",
        "import matplotlib.pyplot as plt\n",
        "from matplotlib.ticker import MultipleLocator\n",
        "import seaborn as sns\n",
        "import plotly.express as px\n",
        "\n",
        "%matplotlib inline\n",
        "\n",
        "from sklearn.preprocessing import normalize\n",
        "\n",
        "import math\n",
        "import os\n",
        "import time\n",
        "import pickle as pickle"
      ]
    },
    {
      "cell_type": "code",
      "execution_count": null,
      "metadata": {
        "id": "9KXEoIEJDUfB"
      },
      "outputs": [],
      "source": [
        "import pyeeg as pe"
      ]
    },
    {
      "cell_type": "markdown",
      "metadata": {
        "id": "xr7cRJkjC7s2"
      },
      "source": [
        "**Here is the code for mounting google drive**"
      ]
    },
    {
      "cell_type": "code",
      "execution_count": null,
      "metadata": {
        "colab": {
          "base_uri": "https://localhost:8080/"
        },
        "id": "BBqwQXb1Pisb",
        "outputId": "09850b91-301c-4d24-cf7c-54a5aace9fe0"
      },
      "outputs": [
        {
          "output_type": "stream",
          "name": "stdout",
          "text": [
            "Drive already mounted at /content/drive; to attempt to forcibly remount, call drive.mount(\"/content/drive\", force_remount=True).\n"
          ]
        }
      ],
      "source": [
        "from google.colab import drive\n",
        "drive.mount('/content/drive')"
      ]
    },
    {
      "cell_type": "code",
      "execution_count": null,
      "metadata": {
        "id": "bZ441CSZRJxP"
      },
      "outputs": [],
      "source": [
        "path_to_dataset_2 = '/content/drive/MyDrive/EEG/data_preprocessed_python/' # Location of dat file of DEAP dataset\n",
        "path_to_dataset = '/content/drive/MyDrive/EEG/numPy/' # Where to save preprocessed npy files\n",
        "\n",
        "# channel = [1,2,3,4,5,6,7,8,9,10,11,12,13,14,15,16,17,18,19,20,21,22,23,24,25,26,27,28,29,30,31,32,33,34,35,36,37,38,39,40] #40 Channels chosen to fit Emotiv Epoch+\n",
        "\n",
        "channel = list(range(40))  # Channels 0-39 to match the data array\n",
        "band = [4, 8, 12, 16, 25, 45]  # 5 bands\n",
        "window_size = 256  # Averaging band power of 2 sec\n",
        "step_size = 16  # Each 0.125 sec update once\n",
        "sample_rate = 128  # Sampling rate of 128 Hz\n",
        "\n",
        "subjectList = [f\"{i:02d}\" for i in range(1, 33)]  # Create subject list with zero-padded numbers\n",
        "\n",
        "def FFT_Processing(sub, channel, band, window_size, step_size, sample_rate):\n",
        "    '''\n",
        "    arguments:  string subject\n",
        "                list channel indices\n",
        "                list band\n",
        "                int window size for FFT\n",
        "                int step size for FFT\n",
        "                int sample rate for FFT\n",
        "    return:     void\n",
        "    '''\n",
        "    meta = []\n",
        "    with open(path_to_dataset_2 + 's' + sub + '.dat', 'rb') as file:\n",
        "        subject = pickle.load(file, encoding='latin1')  # Resolve Python 2 data issue\n",
        "\n",
        "        for i in range(40):  # Loop over 40 trials\n",
        "            data = subject[\"data\"][i]\n",
        "            labels = subject[\"labels\"][i]\n",
        "            start = 0\n",
        "\n",
        "            while start + window_size < data.shape[1]:\n",
        "                meta_data = []  # Meta vector for analysis\n",
        "                for j in channel:\n",
        "                    X = data[j][start: start + window_size]  # Slice raw data\n",
        "                    Y = pe.bin_power(X, band, sample_rate)  # FFT for channel `j`\n",
        "                    meta_data += list(Y[0])  # Append the band power data\n",
        "\n",
        "                # Ensure `labels` is a 1D array or list\n",
        "                meta_array = [np.array(meta_data), np.array(labels).flatten()]\n",
        "                meta.append(meta_array)\n",
        "                start += step_size\n",
        "\n",
        "        meta = np.array(meta, dtype=object)  # Use dtype=object to handle variable-length arrays\n",
        "        np.save(path_to_dataset + 's' + sub, meta, allow_pickle=True, fix_imports=True)\n",
        "\n",
        "for subjects in subjectList:\n",
        "    FFT_Processing(subjects, channel, band, window_size, step_size, sample_rate)"
      ]
    },
    {
      "cell_type": "code",
      "source": [
        "import numpy as np\n",
        "import pandas as pd\n",
        "\n",
        "# Initialize the data and label lists\n",
        "data_training = []\n",
        "label_training = []\n",
        "data_testing = []\n",
        "label_testing = []\n",
        "\n",
        "# Loop through each subject (01 to 32)\n",
        "for subject_id in range(1, 33):\n",
        "    # Format the subject number and load the corresponding file\n",
        "    subject_file = f\"{path_to_dataset}s{subject_id:02d}.npy\"\n",
        "\n",
        "    # Load the subject's data\n",
        "    with open(subject_file, 'rb') as file:\n",
        "        sub = np.load(file, allow_pickle=True)\n",
        "        for i in range(sub.shape[0]):  # Iterate through the rows\n",
        "            if i % 4 == 0:  # 25% data for testing\n",
        "                data_testing.append(sub[i][0])\n",
        "                label_testing.append(sub[i][1])\n",
        "            else:  # 75% data for training\n",
        "                data_training.append(sub[i][0])\n",
        "                label_training.append(sub[i][1])\n",
        "\n",
        "# Convert data and labels to NumPy arrays\n",
        "data_training = np.array(data_training)\n",
        "label_training = np.array(label_training)\n",
        "data_testing = np.array(data_testing)\n",
        "label_testing = np.array(label_testing)\n",
        "\n",
        "# Define column names for features\n",
        "n_features = data_training.shape[1]\n",
        "column_names = [f'C{i+1}B{j+1}' for i in range(n_features // 5) for j in range(5)]\n",
        "\n",
        "# Create the training DataFrame\n",
        "train_df = pd.DataFrame(data_training, columns=column_names)\n",
        "train_df['Valence'], train_df['Arousal'], train_df['Domain'], train_df['Like'] = label_training.T\n",
        "\n",
        "# Create the testing DataFrame\n",
        "test_column_names = [f'C{i+1}B{j+1}' for i in range(data_testing.shape[1] // 5) for j in range(5)]\n",
        "test_df = pd.DataFrame(data_testing, columns=test_column_names)\n",
        "test_df['Valence'], test_df['Arousal'], test_df['Domain'], test_df['Like'] = label_testing.T\n",
        "\n",
        "# Optionally save to CSV\n",
        "# save_path = \"/path/to/save/\"\n",
        "# train_df.to_csv(save_path + \"train_data.csv\", index=False)\n",
        "# test_df.to_csv(save_path + \"test_data.csv\", index=False)\n",
        "\n",
        "print(\"Training and testing datasets created successfully.\")"
      ],
      "metadata": {
        "id": "2yRsu8XjXSRV"
      },
      "execution_count": null,
      "outputs": []
    }
  ]
}